{
 "cells": [
  {
   "cell_type": "code",
   "execution_count": 30,
   "id": "2a29feba",
   "metadata": {},
   "outputs": [
    {
     "data": {
      "text/plain": [
       "<function __main__.fruit_store()>"
      ]
     },
     "execution_count": 30,
     "metadata": {},
     "output_type": "execute_result"
    }
   ],
   "source": [
    "# Write a program to demonstrate the Fruit Store Console application \n",
    "\n",
    "def display_menu():\n",
    "    print(\"welcome to the fruit store\")\n",
    "    print(\"available fruits\")\n",
    "    print(\"add fruit store\")\n",
    "    print(\"view cart\")\n",
    "    print(\"checkout\")\n",
    "    print(\"exit\")\n",
    "    \n",
    "# fruits available\n",
    "def view_fruits():\n",
    "    print(\"available fruits :\")\n",
    "    print(\"apple  = 100 per kg\")\n",
    "    print(\"banana = 20 per kg\")\n",
    "    print(\"mango = 70 per kg\")\n",
    "    print(\"orange  = 150 per kg\")\n",
    "    \n",
    "#using cart\n",
    "\n",
    "def add_cart(cart):\n",
    "    fruit=input(\"enter fruit name:\")\n",
    "    quantity=float(input(\"enter the quantity in kg:\"))\n",
    "    #cart(fruit)=quantity\n",
    "    print(\"{quantity}kg of {fruit} add to cart.\")\n",
    "    \n",
    "#fruit selected\n",
    "\n",
    "def view_cart(cart):\n",
    "    print(\"the items in your cart:\")\n",
    "    for fruit,quantity in cart.items():\n",
    "        print(\"check ..\")\n",
    "        total_cost=0\n",
    "        for fruit,quantity in cart.items():\n",
    "            if fruit==\"apple\":\n",
    "                print(\"price per kg=100\")\n",
    "            elif fruit==\"banana\":\n",
    "                print(\"price_per kg=20\")\n",
    "            elif fruit==\"mango\":\n",
    "                print(\"price_per kg=70\")\n",
    "            elif fruit==\"orange\":\n",
    "                print(\"price_per kg=150\")\n",
    "            else:\n",
    "                print(\"price_per kg=0\")\n",
    "                \n",
    "# total cost\n",
    "\n",
    "def fruit_store():\n",
    "        display_menu()\n",
    "        choice = input(\"enter choice(1;5):\")\n",
    "        \n",
    "        if choice==\"1\":\n",
    "            view_fruits()\n",
    "        elif choice==\"2\":\n",
    "            add_cart(cart)\n",
    "        elif choice==\"3\":\n",
    "            view_cart(cart)\n",
    "        elif choice==\"4\":\n",
    "            check(cart)\n",
    "        elif choice==\"5\":\n",
    "            print(\"thanks shopping us :\")\n",
    "        else :\n",
    "            print(\"invalid choice:\")\n",
    "            \n",
    "#store application\n",
    "fruit_store  "
   ]
  },
  {
   "cell_type": "code",
   "execution_count": null,
   "id": "d6cab0f6",
   "metadata": {},
   "outputs": [],
   "source": []
  }
 ],
 "metadata": {
  "kernelspec": {
   "display_name": "Python 3 (ipykernel)",
   "language": "python",
   "name": "python3"
  },
  "language_info": {
   "codemirror_mode": {
    "name": "ipython",
    "version": 3
   },
   "file_extension": ".py",
   "mimetype": "text/x-python",
   "name": "python",
   "nbconvert_exporter": "python",
   "pygments_lexer": "ipython3",
   "version": "3.10.9"
  }
 },
 "nbformat": 4,
 "nbformat_minor": 5
}
