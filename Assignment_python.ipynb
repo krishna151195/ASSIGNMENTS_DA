{
 "cells": [
  {
   "cell_type": "markdown",
   "id": "e0ae2e23",
   "metadata": {},
   "source": [
    "###### Python\n",
    "\n",
    "# String-Exercises               "
   ]
  },
  {
   "cell_type": "code",
   "execution_count": 1,
   "id": "4da7ed7f",
   "metadata": {},
   "outputs": [
    {
     "name": "stdout",
     "output_type": "stream",
     "text": [
      "3\n"
     ]
    }
   ],
   "source": [
    "# 1.)\n",
    "#count the number of character of string.\n",
    "tr=\"google.com\"\n",
    "r=tr.count(\"o\")\n",
    "print(r)"
   ]
  },
  {
   "cell_type": "code",
   "execution_count": 2,
   "id": "a24bdc66",
   "metadata": {},
   "outputs": [
    {
     "name": "stdout",
     "output_type": "stream",
     "text": [
      "$esta$t\n"
     ]
    }
   ],
   "source": [
    "# 2.)\n",
    "tr=\"restart\"\n",
    "a=tr.replace(\"r\",\"$\")\n",
    "print(a)"
   ]
  },
  {
   "cell_type": "code",
   "execution_count": 4,
   "id": "3a7fd816",
   "metadata": {},
   "outputs": [
    {
     "name": "stdout",
     "output_type": "stream",
     "text": [
      "28\n"
     ]
    }
   ],
   "source": [
    "# 3.)\n",
    "tr=\"i am learning python course.\"\n",
    "w=len(tr)\n",
    "print(w)"
   ]
  },
  {
   "cell_type": "code",
   "execution_count": 5,
   "id": "b35bd8c9",
   "metadata": {},
   "outputs": [
    {
     "name": "stdout",
     "output_type": "stream",
     "text": [
      "2\n"
     ]
    }
   ],
   "source": [
    "# 4.)\n",
    "tr=\"l love banana, banana are my favorite fruit\"\n",
    "q=tr.count(\"banana\")\n",
    "print(q)"
   ]
  },
  {
   "cell_type": "code",
   "execution_count": 7,
   "id": "420e5aee",
   "metadata": {},
   "outputs": [
    {
     "name": "stdout",
     "output_type": "stream",
     "text": [
      "I LOVE BANANA, BANANA ARE MY FAVORITE FRUIT\n"
     ]
    }
   ],
   "source": [
    "# 5.)\n",
    "tr=\"I love banana, banana are my favorite fruit\"\n",
    "a=tr.upper()\n",
    "print(a)"
   ]
  },
  {
   "cell_type": "code",
   "execution_count": 8,
   "id": "f4069c6d",
   "metadata": {},
   "outputs": [
    {
     "name": "stdout",
     "output_type": "stream",
     "text": [
      "5\n"
     ]
    }
   ],
   "source": [
    "# 6.)\n",
    "tr=\"AEIOU\"                     #vowels=AEIOU\n",
    "s=len(tr)\n",
    "print(s)"
   ]
  },
  {
   "cell_type": "markdown",
   "id": "c997291b",
   "metadata": {},
   "source": [
    "# List-Exercises"
   ]
  },
  {
   "cell_type": "code",
   "execution_count": 9,
   "id": "b9fc90e4",
   "metadata": {},
   "outputs": [
    {
     "name": "stdout",
     "output_type": "stream",
     "text": [
      "empty list\n"
     ]
    }
   ],
   "source": [
    "#1.)\n",
    "\n",
    "list1=[]\n",
    "\n",
    "if list1:\n",
    "    print(\"list is not empty\")\n",
    "else :\n",
    "    print(\"empty list\")"
   ]
  },
  {
   "cell_type": "code",
   "execution_count": 21,
   "id": "0739fbe5",
   "metadata": {
    "scrolled": true
   },
   "outputs": [
    {
     "name": "stdout",
     "output_type": "stream",
     "text": [
      "[1, 2, 3, 4, 5, 6]\n"
     ]
    }
   ],
   "source": [
    "# 2.)\n",
    "\n",
    "duplicate = [1,1,2,2,3,4,3,4,5,6]\n",
    "print(list(set(duplicate)))"
   ]
  },
  {
   "cell_type": "code",
   "execution_count": 50,
   "id": "8f0ca1d9",
   "metadata": {},
   "outputs": [
    {
     "name": "stdout",
     "output_type": "stream",
     "text": [
      "True\n"
     ]
    }
   ],
   "source": [
    "#3.)\n",
    "\n",
    "def common_member(a,b):\n",
    "    return any(i in b for i in a)\n",
    "\n",
    "a=[1,2,3,4,5]\n",
    "b=[5,6,7,8,9]\n",
    "print(common_member(a,b))"
   ]
  },
  {
   "cell_type": "code",
   "execution_count": 34,
   "id": "56d7f142",
   "metadata": {},
   "outputs": [
    {
     "name": "stdout",
     "output_type": "stream",
     "text": [
      "[10, 20]\n"
     ]
    }
   ],
   "source": [
    "#4.)\n",
    "\n",
    "a=[10,20,30,40,50]\n",
    "b=[30,40,50]\n",
    " \n",
    "c = []\n",
    "for i in a:\n",
    "    if i not in b:\n",
    "        c.append(i)\n",
    "print(c)"
   ]
  },
  {
   "cell_type": "code",
   "execution_count": 52,
   "id": "127c9e28",
   "metadata": {
    "scrolled": false
   },
   "outputs": [
    {
     "name": "stdout",
     "output_type": "stream",
     "text": [
      "Second smallest element is: 2\n"
     ]
    }
   ],
   "source": [
    "#5.)\n",
    "# find second smallest number\n",
    "\n",
    "list1=[4,3,2,6,8,1,5]\n",
    "\n",
    "# using sorted method\n",
    "\n",
    "print(\"Second smallest element is:\", sorted(list1)[1])"
   ]
  },
  {
   "cell_type": "code",
   "execution_count": 42,
   "id": "3745a459",
   "metadata": {},
   "outputs": [
    {
     "name": "stdout",
     "output_type": "stream",
     "text": [
      "Second largest element is: 45\n"
     ]
    }
   ],
   "source": [
    "#6.)\n",
    "# find second largest number\n",
    "\n",
    "list1 = [10, 20, 4, 45, 99]\n",
    "\n",
    "# using sorted method\n",
    "\n",
    "print(\"Second largest element is:\", sorted(list1)[-2])"
   ]
  },
  {
   "cell_type": "code",
   "execution_count": 16,
   "id": "84724080",
   "metadata": {},
   "outputs": [
    {
     "name": "stdout",
     "output_type": "stream",
     "text": [
      "{1: 4, 2: 3, 3: 3, 4: 2, 5: 1, 6: 2}\n"
     ]
    }
   ],
   "source": [
    "#7.)\n",
    "#frequency of the elements in a list\n",
    "\n",
    "list1 =[1,1,1,1,2,2,2,3,3,3,4,4,5,6,6]\n",
    "\n",
    "def countfreq(list1):\n",
    "    freq = {}\n",
    "    for item in list1:\n",
    "        if(item in freq):\n",
    "            freq[item]+=1\n",
    "        else :\n",
    "            freq[item] = 1\n",
    "    print(freq)\n",
    "\n",
    "countfreq(list1)\n",
    "    "
   ]
  },
  {
   "cell_type": "code",
   "execution_count": 25,
   "id": "d1241dd0",
   "metadata": {},
   "outputs": [
    {
     "name": "stdout",
     "output_type": "stream",
     "text": [
      "multiple integer:  [11, 33, 50]\n",
      "single integer: 113350\n"
     ]
    }
   ],
   "source": [
    "#8.)\n",
    "# convert a list of multiple integer into a single integer\n",
    "\n",
    "a=[11,33,50]\n",
    "print(\"multiple integer: \",a)\n",
    "b=int(\"\".join(map(str,a)))\n",
    "print(\"single integer:\",b)"
   ]
  },
  {
   "cell_type": "code",
   "execution_count": 30,
   "id": "bef13aac",
   "metadata": {},
   "outputs": [
    {
     "name": "stdout",
     "output_type": "stream",
     "text": [
      "empty list\n",
      "list is not empty\n"
     ]
    }
   ],
   "source": [
    "#10.)\n",
    "# list are empty or not\n",
    "# sample=[{},{},{}]\n",
    "# sample [{1,2},{},{}]\n",
    "\n",
    "list1=[{},{},{}]\n",
    "\n",
    "if list1:\n",
    "    print(\"empty list\")\n",
    "else :\n",
    "    print(\"list is not empty\")\n",
    "    \n",
    "list2=[{1,2},{},{}]\n",
    "\n",
    "if list2:\n",
    "    print(\"list is not empty\")\n",
    "else :\n",
    "    print(\"empty list\")\n",
    "    "
   ]
  },
  {
   "cell_type": "code",
   "execution_count": 36,
   "id": "39ba1479",
   "metadata": {},
   "outputs": [
    {
     "name": "stdout",
     "output_type": "stream",
     "text": [
      "['red', 'orange', 'green', 'blue', 'white', 'black', 'yellow', 'green', 'blue']\n"
     ]
    }
   ],
   "source": [
    "#similarity between two list.\n",
    "#list1=[\"red\",\"orange\",\"green\",\"blue\",\"white\"]\n",
    "#list2=[\"black\",\"yellow\",\"green\",\"blue\"]\n",
    "\n",
    "list1=[\"red\",\"orange\",\"green\",\"blue\",\"white\"]\n",
    "list2=[\"black\",\"yellow\",\"green\",\"blue\"]\n",
    "\n",
    "\n"
   ]
  },
  {
   "cell_type": "markdown",
   "id": "17459a59",
   "metadata": {},
   "source": [
    "# dictionary-exercises"
   ]
  },
  {
   "cell_type": "code",
   "execution_count": 38,
   "id": "568eee38",
   "metadata": {},
   "outputs": [
    {
     "name": "stdout",
     "output_type": "stream",
     "text": [
      "{1: 1, 2: 4, 3: 9, 4: 16, 5: 25}\n"
     ]
    }
   ],
   "source": [
    "#1.)\n",
    "#sample dictionary(n=5)                  # x,x*x\n",
    "\n",
    "x={\n",
    "    1 :1*1,\n",
    "    2 :2*2,\n",
    "    3 :3*3,\n",
    "    4 :4*4,\n",
    "    5 :5*5\n",
    "}\n",
    "print(x)"
   ]
  },
  {
   "cell_type": "code",
   "execution_count": 7,
   "id": "a0e1f1ec",
   "metadata": {},
   "outputs": [
    {
     "name": "stdout",
     "output_type": "stream",
     "text": [
      "Counter({'a': 400, 'b': 400, 'd': 400, 'c': 300})\n"
     ]
    }
   ],
   "source": [
    "#2.)\n",
    "#combine two dictionary adding values for commomn keys\n",
    "# d1={'a':100,'b':200,'c':300} \n",
    "# d2={'a':300,'b':200,'d':400}\n",
    "\n",
    "# initializing two dictionaries\n",
    "\n",
    "d1={'a':100,'b':200,'c':300} \n",
    "d2={'a':300,'b':200,'d':400}\n",
    "\n",
    "# adding the values with common key\n",
    "\n",
    "C = Counter(d1) + Counter(d2)\n",
    "print(C)"
   ]
  },
  {
   "cell_type": "code",
   "execution_count": 8,
   "id": "0cdf2bf4",
   "metadata": {},
   "outputs": [
    {
     "name": "stdout",
     "output_type": "stream",
     "text": [
      "original value  [{'V': 'S001'}, {'V': 'S002'}, {'VI': 'S001'}, {'VI': 'S005'}, {'VII': 'S005'}, {'V': 'S009'}, {'VIII': 'S007'}]\n",
      "unique values : {'S002', 'S005', 'S007', 'S001', 'S009'}\n"
     ]
    }
   ],
   "source": [
    "#3.)\n",
    "#unique values in dictionary\n",
    "\n",
    "x=[{\"V\":\"S001\"}, {\"V\": \"S002\"}, {\"VI\": \"S001\"}, {\"VI\": \"S005\"},{\"VII\":\"S005\"}, {\"V\":\"S009\"},{\"VIII\":\"S007\"}]\n",
    "print(\"original value \" ,x )\n",
    "\n",
    "y=set(val for dic in x for val in dic.values())\n",
    "print(\"unique values :\", y)"
   ]
  },
  {
   "cell_type": "code",
   "execution_count": 21,
   "id": "5463718a",
   "metadata": {
    "scrolled": false
   },
   "outputs": [
    {
     "name": "stdout",
     "output_type": "stream",
     "text": [
      "ac\n",
      "ad\n",
      "bc\n",
      "bd\n"
     ]
    }
   ],
   "source": [
    "#4.)\n",
    "#create and display all combinations of letters,selecting each letter from a different key in dictionary.\n",
    "\n",
    "d={'1':['a','b'],'2':['c','d']}\n",
    "\n",
    "import itertools      \n",
    "d ={'1':['a','b'], '2':['c','d']}\n",
    "for combo in itertools.product(*[d[k] for k in sorted(d.keys())]):\n",
    "    print(''.join(combo))"
   ]
  },
  {
   "cell_type": "code",
   "execution_count": 24,
   "id": "2d417bbc",
   "metadata": {},
   "outputs": [
    {
     "name": "stdout",
     "output_type": "stream",
     "text": [
      "{'w': 1, '3': 1, 'r': 2, 'e': 2, 's': 1, 'o': 1, 'u': 1, 'c': 1}\n"
     ]
    }
   ],
   "source": [
    "#5.)\n",
    "# create a dictionary from a string.\n",
    "\n",
    "str1=\"w3resource\"\n",
    "my_dict = {}\n",
    "for letter in str1:\n",
    "    my_dict[letter] = my_dict.get(letter,0) + 1\n",
    "print(my_dict)"
   ]
  },
  {
   "cell_type": "code",
   "execution_count": 5,
   "id": "fad41a43",
   "metadata": {
    "scrolled": true
   },
   "outputs": [
    {
     "name": "stdout",
     "output_type": "stream",
     "text": [
      "Total value associated with key in dictionary : 6\n",
      "Total count of succes true : 2\n"
     ]
    }
   ],
   "source": [
    "#6.)\n",
    "#count the values associated with key in dictionary.\n",
    "#sample data=[{'id':1,'success':true,'name':'Lary'},{'id':2,'success':false,'name':'rabi'},{'id':3,'succes':true,'name':'alex'}]\n",
    "\n",
    "student =\n",
    "[{'id': 1, 'success': True, 'name': 'Lary'},\n",
    " {'id': 2, 'success': False, 'name': 'Rabi'},\n",
    " {'id': 3, 'success': True, 'name': 'Alex'}]\n",
    "print(\"Total value associated with key in dictionary :\",sum(d['id'] for d in student))\n",
    "print(\"Total count of succes true :\",sum(d['success'] for d in student))"
   ]
  },
  {
   "cell_type": "code",
   "execution_count": 14,
   "id": "7a662dbc",
   "metadata": {
    "scrolled": false
   },
   "outputs": [
    {
     "name": "stdout",
     "output_type": "stream",
     "text": [
      "['red', 'blue', 'pink']\n",
      "['apple', 'banana', 'orange']\n"
     ]
    }
   ],
   "source": [
    "#7.)\n",
    "# convert a list into nested dictionary of keys.\n",
    "\n",
    "y=['red','blue','pink']\n",
    "x=['apple','banana','orange']\n",
    "\n",
    "list1={}\n",
    "print(y)\n",
    "print(x)\n"
   ]
  },
  {
   "cell_type": "code",
   "execution_count": 5,
   "id": "2b0c562e",
   "metadata": {},
   "outputs": [
    {
     "name": "stdout",
     "output_type": "stream",
     "text": [
      "\n",
      " before sorting :\n",
      "('L1', [12, 54, 76, 31])\n",
      "('L2', [1, 7, 4, 2])\n",
      "('L3', [76, 86, 53, 90])\n",
      "('L4', [60, 40, 70, 10])\n",
      "\n",
      " after sorting :\n",
      "{'L1': [12, 31, 54, 76]}\n",
      "{'L2': [1, 2, 4, 7]}\n",
      "{'L3': [53, 76, 86, 90]}\n",
      "{'L4': [10, 40, 60, 70]}\n"
     ]
    }
   ],
   "source": [
    "#8.)\n",
    "# sort a list alphabetically in a dictionary.\n",
    "#alphabetically in a dictionary.\n",
    "\n",
    "dict={\n",
    "    \"L1\":[12,54,76,31],\n",
    "    \"L2\":[1,7,4,2],\n",
    "    \"L3\":[76,86,53,90],\n",
    "    \"L4\":[60,40,70,10]\n",
    "}\n",
    "\n",
    "print(\"\\n before sorting :\")\n",
    "for x in dict.items():\n",
    "    print(x)\n",
    "\n",
    "print(\"\\n after sorting :\")\n",
    "for i,j in dict.items():\n",
    "    sorted_dict={i:sorted(j)}\n",
    "    print(sorted_dict)\n",
    "   "
   ]
  },
  {
   "cell_type": "code",
   "execution_count": 13,
   "id": "b3db7956",
   "metadata": {
    "scrolled": false
   },
   "outputs": [
    {
     "name": "stdout",
     "output_type": "stream",
     "text": [
      "[('chemestry', 87), ('physics', 83), ('maths', 81)]\n"
     ]
    }
   ],
   "source": [
    "#9.)\n",
    "#write a python program to sort counter by value.\n",
    "#sample data:{'maths':81,'physics':83,'chemestry':87}\n",
    "\n",
    "from collections import Counter\n",
    "x=Counter({'maths':81,'physics':83,'chemestry':87})\n",
    "print(x.most_common())"
   ]
  },
  {
   "cell_type": "code",
   "execution_count": 14,
   "id": "ac999781",
   "metadata": {},
   "outputs": [
    {
     "name": "stdout",
     "output_type": "stream",
     "text": [
      "key1: 1 is present in both x and y\n"
     ]
    }
   ],
   "source": [
    "#10.)\n",
    "#write a python program to matchkey values in two dictionaries.go to the editor\n",
    "\n",
    "#sample data:{'key1':1,'key2':3,'key3':2},{'key1':1,'key2':2}\n",
    "\n",
    "x = {'key1':1, 'key2':3, 'key3':2}\n",
    "y = {'key1':1, 'key2':2}\n",
    "for (key, value) in set(x.items()) & set(y.items()):\n",
    "    print('%s: %s is present in both x and y' % (key, value))"
   ]
  },
  {
   "cell_type": "markdown",
   "id": "83e8aa1a",
   "metadata": {},
   "source": [
    "# truple-exercises"
   ]
  },
  {
   "cell_type": "code",
   "execution_count": 6,
   "id": "5e581a2d",
   "metadata": {},
   "outputs": [
    {
     "name": "stdout",
     "output_type": "stream",
     "text": [
      "('apple', 'banana', 'cherry')\n",
      "(7, 3, 4, 2, 8)\n",
      "(True, False, True)\n",
      "(34.43, 67.32, 12.21)\n",
      "(23, 64, ('orange', 'mango'), 43, 90)\n",
      "(10, 40, ['apple', 'mango'], 20, 20)\n"
     ]
    }
   ],
   "source": [
    "# 1.)\n",
    "#write a python program to create a tuple with different data types.\n",
    "\n",
    "list1 = (\"apple\", \"banana\", \"cherry\")\n",
    "list2 = (7, 3, 4, 2, 8)\n",
    "list3 = (True, False, True)\n",
    "list4 = (34.43,67.32,12.21)\n",
    "list5 = (23,64,(\"orange\",\"mango\"),43,90)\n",
    "list6 = (10,40,[\"apple\",\"mango\"],20,20)\n",
    "\n",
    "print(list1)\n",
    "print(list2)\n",
    "print(list3)\n",
    "print(list4)\n",
    "print(list5)\n",
    "print(list6)"
   ]
  },
  {
   "cell_type": "code",
   "execution_count": 17,
   "id": "638f3cc5",
   "metadata": {
    "scrolled": true
   },
   "outputs": [
    {
     "name": "stdout",
     "output_type": "stream",
     "text": [
      "tuple item = (10, 8, 20, 30, 40)\n",
      "tuple item = (10, 8, 20, 30, 40, 70)\n",
      "tuple item = (10, 8, 20, 30, 40, 70, 80, 90)\n",
      "tuple item = (20, 30, 55, 73, 30, 40)\n"
     ]
    }
   ],
   "source": [
    "# 2.)\n",
    "#write a python program to add an item in a tuple\n",
    "\n",
    "tuple1 = (10,8,20,30,40)\n",
    "print(\"tuple item =\", tuple1)\n",
    "tuple2 = tuple1 + (70,)\n",
    "print(\"tuple item =\", tuple2)\n",
    "tuple3 = tuple2 + (80,90)\n",
    "print(\"tuple item =\", tuple3)\n",
    "tuple4 = tuple1[2:4] + (55,73) + tuple1[3:]\n",
    "print(\"tuple item =\", tuple4)"
   ]
  },
  {
   "cell_type": "code",
   "execution_count": 18,
   "id": "9a4042af",
   "metadata": {},
   "outputs": [
    {
     "name": "stdout",
     "output_type": "stream",
     "text": [
      "orange\n"
     ]
    }
   ],
   "source": [
    "# 3.)\n",
    "#write a python program a convert a tuple to a string.\n",
    "\n",
    "tup = ('o','r','a','n','g','e')\n",
    "str1 = ''.join(tup)\n",
    "print(str1)"
   ]
  },
  {
   "cell_type": "code",
   "execution_count": 19,
   "id": "fc71c4af",
   "metadata": {},
   "outputs": [
    {
     "name": "stdout",
     "output_type": "stream",
     "text": [
      "3\n"
     ]
    }
   ],
   "source": [
    "# 4.)\n",
    "# write a python program to find the repeted items of a tuple\n",
    "\n",
    "tuple1 = (1,2,6,4,7,4,7,9,0,4)\n",
    "x = tuple1.count(4)\n",
    "print(x)"
   ]
  },
  {
   "cell_type": "code",
   "execution_count": 20,
   "id": "1961cb20",
   "metadata": {},
   "outputs": [
    {
     "name": "stdout",
     "output_type": "stream",
     "text": [
      "6\n"
     ]
    }
   ],
   "source": [
    "# 5.)\n",
    "# write a python program to find the length of a tuple.\n",
    "\n",
    "tuple1 = (\"python\")\n",
    "print(len(tuple1))"
   ]
  },
  {
   "cell_type": "code",
   "execution_count": 23,
   "id": "2fd3250a",
   "metadata": {},
   "outputs": [
    {
     "name": "stdout",
     "output_type": "stream",
     "text": [
      "{'k': 1, 'r': 2}\n"
     ]
    }
   ],
   "source": [
    "# 6.)\n",
    "# write a python program to convert a tuple to a dictionary.\n",
    "\n",
    "tuple1 = ((1, \"k\"),(2, \"r\"))\n",
    "print(dict((y, x) for x, y in tuple1))\n",
    "  "
   ]
  },
  {
   "cell_type": "code",
   "execution_count": 28,
   "id": "2890d80b",
   "metadata": {},
   "outputs": [
    {
     "name": "stdout",
     "output_type": "stream",
     "text": [
      "[(10, 20, 100), (40, 50, 100), (70, 80, 100)]\n"
     ]
    }
   ],
   "source": [
    "# 7.)\n",
    "# write a python program to replace last value of tuples in a list.\n",
    "# sample list:[(10,20,40),(40,50,60),(70,80,90)]\n",
    "\n",
    "y = [(10, 20, 40), (40, 50, 60), (70, 80, 90)]\n",
    "print([t[:-1] + (100,) for t in y])\n"
   ]
  },
  {
   "cell_type": "code",
   "execution_count": 32,
   "id": "5f8c927a",
   "metadata": {
    "scrolled": true
   },
   "outputs": [
    {
     "name": "stdout",
     "output_type": "stream",
     "text": [
      "[('',), ('a', 'b'), ('a', 'b', 'c'), 'd']\n"
     ]
    }
   ],
   "source": [
    "# 8.)\n",
    "# write a python program to replace last value of tuples in a list.\n",
    "#sample data :[(),(),('',),('a','b'),('a','b','c'),('d')]\n",
    "\n",
    "def remove(list1):\n",
    "    list1 = [t for t in list1 if t]\n",
    "    return list1\n",
    "\n",
    "list1=[(),(),('',),('a','b'),('a','b','c'),('d')]\n",
    "print(remove(list1))"
   ]
  },
  {
   "cell_type": "code",
   "execution_count": 36,
   "id": "406c9be2",
   "metadata": {
    "scrolled": true
   },
   "outputs": [
    {
     "name": "stdout",
     "output_type": "stream",
     "text": [
      "[('item3', '24.5'), ('item2', '15.20'), ('item1', '12.20')]\n"
     ]
    }
   ],
   "source": [
    "# 9.)\n",
    "# write a python program to sort a tuple by its float element.\n",
    "#sample data:[('item1','12.20'),('item2','15.20'),('item3','24.5')]\n",
    "\n",
    "tuple1 = [('item1','12.20'),('item2','15.20'),('item3','24.5')]\n",
    "print(sorted(tuple1, key=lambda x:float(x[1]) ,reverse = True))"
   ]
  },
  {
   "cell_type": "code",
   "execution_count": 6,
   "id": "f7001fb6",
   "metadata": {},
   "outputs": [
    {
     "name": "stdout",
     "output_type": "stream",
     "text": [
      "3\n"
     ]
    }
   ],
   "source": [
    "#10.)\n",
    "# write a python program to count the elements in a list until an element in a tuple\n",
    "\n",
    "# Python program to count the items\n",
    "# until a list is encountered\n",
    "\n",
    "num = [10,20,30,(10,20),40]\n",
    "x = 0\n",
    "for n in num:\n",
    "    if isinstance(n, tuple):\n",
    "        break\n",
    "    x += 1\n",
    "print(x)\n"
   ]
  },
  {
   "cell_type": "markdown",
   "id": "f037345e",
   "metadata": {},
   "source": [
    "# set-exercises"
   ]
  },
  {
   "cell_type": "code",
   "execution_count": 12,
   "id": "b5ee56c6",
   "metadata": {},
   "outputs": [
    {
     "name": "stdout",
     "output_type": "stream",
     "text": [
      "n\n",
      "o\n",
      "t\n",
      "y\n",
      "h\n",
      "p\n"
     ]
    }
   ],
   "source": [
    "# 1.)\n",
    "# write a python program to iteration over sets.\n",
    "\n",
    "set1 = set(\"python\")\n",
    "\n",
    "# Iterating using for loop\n",
    "for val in set1:\n",
    "    print(val)\n"
   ]
  },
  {
   "cell_type": "code",
   "execution_count": 13,
   "id": "fc802c3a",
   "metadata": {},
   "outputs": [
    {
     "name": "stdout",
     "output_type": "stream",
     "text": [
      "{'banana', 'apple', 'cherry', 'orange'}\n"
     ]
    }
   ],
   "source": [
    "# 2.)\n",
    "# write a python program to add member(s) in a set.\n",
    "\n",
    "set1 = {\"apple\", \"banana\", \"cherry\"}\n",
    "\n",
    "set1.add(\"orange\")\n",
    "\n",
    "print(set1)\n"
   ]
  },
  {
   "cell_type": "code",
   "execution_count": 14,
   "id": "c74512ed",
   "metadata": {},
   "outputs": [
    {
     "name": "stdout",
     "output_type": "stream",
     "text": [
      "{'apple', 'cherry'}\n"
     ]
    }
   ],
   "source": [
    "# 3.)\n",
    "# write a python program to remove item(s) from set\n",
    "\n",
    "set1 = {\"apple\", \"banana\", \"cherry\"}\n",
    "\n",
    "set1.remove(\"banana\")\n",
    "\n",
    "print(set1)\n"
   ]
  },
  {
   "cell_type": "code",
   "execution_count": 15,
   "id": "afb94ce3",
   "metadata": {},
   "outputs": [
    {
     "name": "stdout",
     "output_type": "stream",
     "text": [
      "{'apple', 'cherry'}\n",
      "{'apple', 'cherry'}\n"
     ]
    }
   ],
   "source": [
    "# 4.)\n",
    "# write a python program to remove an item from a set if it is present in the set.\n",
    "\n",
    "set1 = {\"apple\", \"banana\", \"cherry\"}\n",
    "\n",
    "set1.remove(\"banana\")\n",
    "\n",
    "print(set1)\n",
    "\n",
    "set1 = {\"apple\", \"banana\", \"cherry\"}\n",
    "\n",
    "set1.discard(\"banana\")\n",
    "\n",
    "print(set1)"
   ]
  },
  {
   "cell_type": "code",
   "execution_count": 16,
   "id": "736e5d56",
   "metadata": {},
   "outputs": [
    {
     "name": "stdout",
     "output_type": "stream",
     "text": [
      "{'apple'}\n"
     ]
    }
   ],
   "source": [
    "# 5.)\n",
    "# write a python program to create an intersection of set.\n",
    "\n",
    "x = {\"apple\", \"banana\", \"cherry\"}\n",
    "y = {\"google\", \"microsoft\", \"apple\"}\n",
    "\n",
    "z = x.intersection(y)\n",
    "\n",
    "print(z)"
   ]
  },
  {
   "cell_type": "code",
   "execution_count": 17,
   "id": "2e94ab22",
   "metadata": {},
   "outputs": [
    {
     "name": "stdout",
     "output_type": "stream",
     "text": [
      "{'banana', 'microsoft', 'google', 'cherry'}\n"
     ]
    }
   ],
   "source": [
    "# 6.)\n",
    "# write a python program to create a symmetric difference\n",
    "\n",
    "x = {\"apple\", \"banana\", \"cherry\"}\n",
    "y = {\"google\", \"microsoft\", \"apple\"}\n",
    "\n",
    "z = x.symmetric_difference(y)\n",
    "\n",
    "print(z)\n"
   ]
  },
  {
   "cell_type": "code",
   "execution_count": 19,
   "id": "84d5607a",
   "metadata": {},
   "outputs": [
    {
     "name": "stdout",
     "output_type": "stream",
     "text": [
      "10\n",
      "2\n"
     ]
    }
   ],
   "source": [
    "# 7.)\n",
    "# write a python program to find maximum and the minimum value in a set.\n",
    "\n",
    "set1 = {2,6,8,9,10}\n",
    "print(max(set1))\n",
    "\n",
    "print(min(set1))"
   ]
  },
  {
   "cell_type": "code",
   "execution_count": 20,
   "id": "1ad3c0a8",
   "metadata": {},
   "outputs": [
    {
     "name": "stdout",
     "output_type": "stream",
     "text": [
      "6\n"
     ]
    }
   ],
   "source": [
    "# 8.)\n",
    "# write a python program to find the length of a set.\n",
    "\n",
    "set1 = {3,5,1,6,8,7}\n",
    "print(len(set1))"
   ]
  },
  {
   "cell_type": "markdown",
   "id": "c2d7f30e",
   "metadata": {},
   "source": [
    "# python conditional statements and loops"
   ]
  },
  {
   "cell_type": "code",
   "execution_count": 29,
   "id": "05d1171c",
   "metadata": {},
   "outputs": [
    {
     "name": "stdout",
     "output_type": "stream",
     "text": [
      "Number of even number : 4\n",
      "Number of odd number : 5\n"
     ]
    }
   ],
   "source": [
    "# 2.)\n",
    "# write a python program to count the number of even and odd numbers from a series of numbers.\n",
    "# sample numbers : number = (1,2,3,4,5,6,7,8,9)\n",
    "\n",
    "numer = {1,2,3,4,5,6,7,8,9}\n",
    "\n",
    "count_odd = 0\n",
    "count_even = 0\n",
    "\n",
    "for x in numer:\n",
    "        if not x % 2:\n",
    "            count_even+=1\n",
    "        else:\n",
    "            count_odd+=1\n",
    "print(\"Number of even number :\",count_even)\n",
    "print(\"Number of odd number :\",count_odd)\n"
   ]
  },
  {
   "cell_type": "code",
   "execution_count": 30,
   "id": "a9d1ac4f",
   "metadata": {},
   "outputs": [
    {
     "name": "stdout",
     "output_type": "stream",
     "text": [
      "0\n",
      "1\n",
      "2\n",
      "4\n",
      "5\n"
     ]
    }
   ],
   "source": [
    "# 3.)\n",
    "# write a python program that prints all the numbers from 0 to 6 except 3 and 6.\n",
    "\n",
    "# Python program that prints all the numbers from 0 to 6 except 3 and 6.\n",
    "\n",
    "for i in range(7):\n",
    "    if(i==3):\n",
    "        pass\n",
    "    elif(i==6):\n",
    "        pass\n",
    "    else:\n",
    "        print(i)"
   ]
  },
  {
   "cell_type": "code",
   "execution_count": 31,
   "id": "bf651077",
   "metadata": {
    "scrolled": false
   },
   "outputs": [
    {
     "name": "stdout",
     "output_type": "stream",
     "text": [
      "1\n",
      "1\n",
      "2\n",
      "3\n",
      "5\n",
      "8\n",
      "13\n",
      "21\n",
      "34\n"
     ]
    }
   ],
   "source": [
    "# 4.)\n",
    "# write a python program to get the fibonacci series between 0 to 50.\n",
    "# Note : The Fibonacci Sequence is the series of numbers :\n",
    "# 0, 1, 1, 2, 3, 5, 8, 13, 21, ....\n",
    "# Every next number is found by adding up the two numbers before it.\n",
    "\n",
    "x,y=0,1\n",
    "\n",
    "while y<50:\n",
    "    print(y)\n",
    "    x,y = y,x+y\n"
   ]
  },
  {
   "cell_type": "code",
   "execution_count": 33,
   "id": "aa184671",
   "metadata": {},
   "outputs": [
    {
     "name": "stdout",
     "output_type": "stream",
     "text": [
      "Row:3\n",
      "Column:4\n",
      "[[0, 0, 0, 0], [0, 1, 2, 3], [0, 2, 4, 6]]\n"
     ]
    }
   ],
   "source": [
    "# 5.)\n",
    "# write a python program which takes two digits m(row) and n(column) as input and generator a two dimentional array.the element\n",
    "# value in the i-th row and j-th column of the array should be i*j \n",
    "#Note :\n",
    "#i = 0,1.., m-1\n",
    "#j = 0,1, n-1.\n",
    "\n",
    "m=int(input(\"Row:\"))\n",
    "n=int(input(\"Column:\"))\n",
    "matrix=[[0 for col in range(n)] for row in range(m)]\n",
    "for row in range(m):\n",
    "    for col in range(n):\n",
    "        matrix[row][col]=row*col\n",
    "print(matrix)"
   ]
  },
  {
   "cell_type": "code",
   "execution_count": 1,
   "id": "84551af8",
   "metadata": {},
   "outputs": [
    {
     "name": "stdout",
     "output_type": "stream",
     "text": [
      "200,202,204,206,208,220,222,224,226,228,240,242,244,246,248,260,262,264,266,268,280,282,284,286,288,400\n"
     ]
    }
   ],
   "source": [
    "# 6.)\n",
    "# write a python program to find nubers between 100 and 400(both include) where each digit of a number.the numbers obtained \n",
    "# should be printed in a comma-separated sequence\n",
    "\n",
    "items = []\n",
    "for i in range(100, 401):\n",
    "    s = str(i)\n",
    "    if (int(s[0])%2==0) and (int(s[1])%2==0) and (int(s[2])%2==0):\n",
    "        items.append(s)\n",
    "print( \",\".join(items))"
   ]
  },
  {
   "cell_type": "code",
   "execution_count": 13,
   "id": "fb056397",
   "metadata": {},
   "outputs": [
    {
     "name": "stdout",
     "output_type": "stream",
     "text": [
      "  ***  \n",
      " *   * \n",
      " *   * \n",
      " ***** \n",
      " *   * \n",
      " *   * \n",
      " *   * \n",
      "\n"
     ]
    }
   ],
   "source": [
    "# 7.)\n",
    "#  write a python program to print alphabet pattern 'A'.\n",
    "\n",
    "str1=\"\";    \n",
    "for row in range(0,7):    \n",
    "    for column in range(0,7):     \n",
    "        if (((column == 1 or column == 5) and row != 0) or ((row == 0 or row == 3) and (column > 1 and column < 5))):    \n",
    "            str1=str1+\"*\"    \n",
    "        else:      \n",
    "            str1=str1+\" \"    \n",
    "    str1=str1+\"\\n\"    \n",
    "print(str1);\n"
   ]
  },
  {
   "cell_type": "code",
   "execution_count": 17,
   "id": "a1608f57",
   "metadata": {
    "scrolled": false
   },
   "outputs": [
    {
     "name": "stdout",
     "output_type": "stream",
     "text": [
      " ****  \n",
      " *   * \n",
      " *   * \n",
      " ****  \n",
      " *     \n",
      " *     \n",
      " *     \n",
      "\n"
     ]
    }
   ],
   "source": [
    "# 8.)\n",
    "# write a python program to print alphabet pattern 'P'.\n",
    "\n",
    "str1=\"\";    \n",
    "for row in range(0,7):    \n",
    "    for column in range(0,7):     \n",
    "        if (column == 1 or ((row == 0 or row == 3) and column > 0 and column < 5) or ((column == 5 or column == 1)\n",
    "                                                                                       and (row == 1 or row == 2))):    \n",
    "            str1=str1+\"*\"    \n",
    "        else:      \n",
    "            str1=str1+\" \"    \n",
    "    str1=str1+\"\\n\"    \n",
    "print(str1);\n"
   ]
  },
  {
   "cell_type": "code",
   "execution_count": 19,
   "id": "3ae725ad",
   "metadata": {
    "scrolled": true
   },
   "outputs": [
    {
     "name": "stdout",
     "output_type": "stream",
     "text": [
      "Please Enter the First Angle of a Triangle: 45\n",
      "Please Enter the Second Angle of a Triangle: 75\n",
      "Please Enter the Third Angle of a Triangle: 60\n",
      "\n",
      "This is a Valid Triangle\n"
     ]
    }
   ],
   "source": [
    "# 9.)\n",
    "# write a python program to cheak triangle is valid or not.\n",
    "\n",
    "a = int(input('Please Enter the First Angle of a Triangle: '))\n",
    "b = int(input('Please Enter the Second Angle of a Triangle: '))\n",
    "c = int(input('Please Enter the Third Angle of a Triangle: '))\n",
    "\n",
    "total = a + b + c\n",
    "\n",
    "if total == 180:\n",
    "    print(\"\\nThis is a Valid Triangle\")\n",
    "else:\n",
    "    print(\"\\nThis is an Invalid Triangle\")"
   ]
  },
  {
   "cell_type": "code",
   "execution_count": 21,
   "id": "ffe93029",
   "metadata": {},
   "outputs": [
    {
     "name": "stdout",
     "output_type": "stream",
     "text": [
      "Input a number: 5\n",
      "5 x 1 = 5\n",
      "5 x 2 = 10\n",
      "5 x 3 = 15\n",
      "5 x 4 = 20\n",
      "5 x 5 = 25\n",
      "5 x 6 = 30\n",
      "5 x 7 = 35\n",
      "5 x 8 = 40\n",
      "5 x 9 = 45\n",
      "5 x 10 = 50\n"
     ]
    }
   ],
   "source": [
    "# 10.)\n",
    "# write a python program to create the multiplication table(from 1 to 10)of a number.\n",
    "\n",
    "n = int(input(\"Input a number: \"))\n",
    "\n",
    "for i in range(1,11):\n",
    "    print(n,'x',i,'=',n*i)  "
   ]
  },
  {
   "cell_type": "code",
   "execution_count": 23,
   "id": "144d6b80",
   "metadata": {},
   "outputs": [
    {
     "name": "stdout",
     "output_type": "stream",
     "text": [
      "\n",
      "1\n",
      "22\n",
      "333\n",
      "4444\n",
      "55555\n",
      "666666\n",
      "7777777\n",
      "88888888\n",
      "999999999\n"
     ]
    }
   ],
   "source": [
    "# 11.)\n",
    "# write a python program to construct the following pattern, using a nested loop number. \n",
    "\n",
    "for i in range(10):\n",
    "    print(str(i) * i)"
   ]
  },
  {
   "cell_type": "markdown",
   "id": "a9ae2190",
   "metadata": {},
   "source": [
    "# function = exercises"
   ]
  },
  {
   "cell_type": "code",
   "execution_count": 31,
   "id": "4879b456",
   "metadata": {},
   "outputs": [
    {
     "name": "stdout",
     "output_type": "stream",
     "text": [
      "14\n"
     ]
    }
   ],
   "source": [
    "# 1.)\n",
    "# write a python function to find the max of three numbers.\n",
    "\n",
    "def maximum(a, b, c):\n",
    "    list = [a, b, c]\n",
    "    return max(list)\n",
    "\n",
    "a = 10\n",
    "b = 14\n",
    "c = 12\n",
    "print(maximum(a, b, c))\n"
   ]
  },
  {
   "cell_type": "code",
   "execution_count": 2,
   "id": "1037e0db",
   "metadata": {},
   "outputs": [
    {
     "name": "stdout",
     "output_type": "stream",
     "text": [
      "15\n"
     ]
    }
   ],
   "source": [
    "# 2.)\n",
    "# write a python function to sum all the number in list.\n",
    "\n",
    "x=[1,2,3,4,5]\n",
    "vr=sum(x)\n",
    "print(vr)"
   ]
  },
  {
   "cell_type": "code",
   "execution_count": 4,
   "id": "259ee785",
   "metadata": {},
   "outputs": [
    {
     "name": "stdout",
     "output_type": "stream",
     "text": [
      "24\n"
     ]
    }
   ],
   "source": [
    "# 3.)\n",
    "# write a python function to multiply all the numbers in a list.\n",
    "\n",
    "list1=[3,4,2]\n",
    "x = lambda a, b, c : a * b * c\n",
    "print(x(3,4,2))"
   ]
  },
  {
   "cell_type": "code",
   "execution_count": 11,
   "id": "f147d3f9",
   "metadata": {},
   "outputs": [
    {
     "name": "stdout",
     "output_type": "stream",
     "text": [
      "hello, and welcome to my world!\n",
      "HELLO, AND WELCOME TO MY WORLD!\n"
     ]
    }
   ],
   "source": [
    "# 4.)\n",
    "# write a python function that accepts a string and calculate the number of upper case letters and lower case letters.\n",
    "\n",
    "tr = \"Hello, And Welcome To My World!\"\n",
    "\n",
    "x = tr.casefold()\n",
    "\n",
    "print(x)\n",
    "\n",
    "y = tr.upper()\n",
    "\n",
    "print(y)"
   ]
  },
  {
   "cell_type": "code",
   "execution_count": 12,
   "id": "3e55807f",
   "metadata": {},
   "outputs": [
    {
     "name": "stdout",
     "output_type": "stream",
     "text": [
      "[1, 2, 3, 4, 5]\n"
     ]
    }
   ],
   "source": [
    "# 5.)\n",
    "# write a python function that takes a list and returns a new list with unique elements of first list.\n",
    "\n",
    "def f(l):\n",
    "\n",
    "    x = []\n",
    "\n",
    "    for a in l:\n",
    "\n",
    "        if a not in x:\n",
    "\n",
    "            x.append(a)\n",
    "\n",
    "    return x\n",
    "\n",
    "print(f([1,2,3,3,3,3,4,5]))"
   ]
  },
  {
   "cell_type": "code",
   "execution_count": 15,
   "id": "3621276b",
   "metadata": {},
   "outputs": [
    {
     "name": "stdout",
     "output_type": "stream",
     "text": [
      "30  6  "
     ]
    }
   ],
   "source": [
    "# 6.)\n",
    "# write a python program to print the even numbers from a given list.\n",
    "\n",
    "list1 = [30, 41, 6, 45, 55, 83]\n",
    "\n",
    "for num in list1:\n",
    "    if num % 2 == 0:\n",
    "        print(num, end=\"  \")\n"
   ]
  },
  {
   "cell_type": "code",
   "execution_count": 18,
   "id": "8455d974",
   "metadata": {},
   "outputs": [
    {
     "name": "stdout",
     "output_type": "stream",
     "text": [
      "Yes\n"
     ]
    }
   ],
   "source": [
    "# 7.)\n",
    "# write a python function that checks whether a passed string is palindrome or not.\n",
    "\n",
    "def isPalindrome(s):\n",
    "    return s == s[::-1]\n",
    "\n",
    "\n",
    "s = \"madam\"\n",
    "ans = isPalindrome(s)\n",
    "\n",
    "if ans:\n",
    "    print(\"Yes\")\n",
    "else:\n",
    "    print(\"No\")\n"
   ]
  },
  {
   "cell_type": "code",
   "execution_count": 19,
   "id": "78ff9e24",
   "metadata": {},
   "outputs": [
    {
     "name": "stdout",
     "output_type": "stream",
     "text": [
      "9\n"
     ]
    }
   ],
   "source": [
    "# 8.)\n",
    "# write a python program to access a function inside a function.\n",
    "\n",
    "def test(a):\n",
    "        def add(b):\n",
    "                nonlocal a\n",
    "                a += 1\n",
    "                return a+b\n",
    "        return add\n",
    "func= test(4)\n",
    "print(func(4))\n"
   ]
  },
  {
   "cell_type": "code",
   "execution_count": 20,
   "id": "00dcfdbd",
   "metadata": {},
   "outputs": [
    {
     "name": "stdout",
     "output_type": "stream",
     "text": [
      "3\n"
     ]
    }
   ],
   "source": [
    "# 9.)\n",
    "# write a python program to detect the number of local variables declared in a function.\n",
    "\n",
    "def abc():\n",
    "    x = 1\n",
    "    y = 2\n",
    "    str1= \"python3\"\n",
    "    print(\"DA Exercises\")\n",
    "\n",
    "print(abc.__code__.co_nlocals)"
   ]
  }
 ],
 "metadata": {
  "kernelspec": {
   "display_name": "Python 3 (ipykernel)",
   "language": "python",
   "name": "python3"
  },
  "language_info": {
   "codemirror_mode": {
    "name": "ipython",
    "version": 3
   },
   "file_extension": ".py",
   "mimetype": "text/x-python",
   "name": "python",
   "nbconvert_exporter": "python",
   "pygments_lexer": "ipython3",
   "version": "3.10.9"
  }
 },
 "nbformat": 4,
 "nbformat_minor": 5
}
